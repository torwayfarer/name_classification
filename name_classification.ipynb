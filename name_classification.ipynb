{
  "nbformat": 4,
  "nbformat_minor": 0,
  "metadata": {
    "kernelspec": {
      "name": "python3",
      "display_name": "Python 3"
    },
    "language_info": {
      "codemirror_mode": {
        "name": "ipython",
        "version": 3
      },
      "file_extension": ".py",
      "mimetype": "text/x-python",
      "name": "python",
      "nbconvert_exporter": "python",
      "pygments_lexer": "ipython3",
      "version": "3.6.8"
    },
    "colab": {
      "name": "Activity 5.ipynb",
      "provenance": [],
      "collapsed_sections": [],
      "toc_visible": true
    },
    "accelerator": "GPU"
  },
  "cells": [
    {
      "cell_type": "markdown",
      "metadata": {
        "id": "tSJLPVn2hoSN",
        "colab_type": "text"
      },
      "source": [
        "# 2019/12/03 CoE 202 Activity 5\n",
        "\n",
        "### **Name Classification**<br/>\n",
        "\n",
        "**Professor: Yong Hoon, Lee**</br>\n",
        "\n",
        "**TA : Seungjun moon, Beomgu Kang**"
      ]
    },
    {
      "cell_type": "code",
      "metadata": {
        "id": "B8KflPJ_hoSP",
        "colab_type": "code",
        "colab": {
          "base_uri": "https://localhost:8080/",
          "height": 63
        },
        "outputId": "77a31b8f-d483-4315-8cc4-b6d586c02d5a"
      },
      "source": [
        "import tensorflow as tf\n",
        "import numpy as np\n",
        "import os.path\n",
        "import string\n",
        "\n",
        "model_save_path = 'tmp/model.ckpt'\n",
        "tf.reset_default_graph()"
      ],
      "execution_count": 1,
      "outputs": [
        {
          "output_type": "display_data",
          "data": {
            "text/html": [
              "<p style=\"color: red;\">\n",
              "The default version of TensorFlow in Colab will soon switch to TensorFlow 2.x.<br>\n",
              "We recommend you <a href=\"https://www.tensorflow.org/guide/migrate\" target=\"_blank\">upgrade</a> now \n",
              "or ensure your notebook will continue to use TensorFlow 1.x via the <code>%tensorflow_version 1.x</code> magic:\n",
              "<a href=\"https://colab.research.google.com/notebooks/tensorflow_version.ipynb\" target=\"_blank\">more info</a>.</p>\n"
            ],
            "text/plain": [
              "<IPython.core.display.HTML object>"
            ]
          },
          "metadata": {
            "tags": []
          }
        }
      ]
    },
    {
      "cell_type": "markdown",
      "metadata": {
        "id": "FNLaRFh7hoSS",
        "colab_type": "text"
      },
      "source": [
        "### Hyperparameters"
      ]
    },
    {
      "cell_type": "code",
      "metadata": {
        "id": "K1bxs1tbhoST",
        "colab_type": "code",
        "colab": {}
      },
      "source": [
        "learning_rate       = 0.005\n",
        "n_epoch             = 200\n",
        "n_hidden            = 128 # hidden layer features\n",
        "max_sequence_length = 19 # maximum number of characters is 19"
      ],
      "execution_count": 0,
      "outputs": []
    },
    {
      "cell_type": "code",
      "metadata": {
        "id": "z73guTxyhoSV",
        "colab_type": "code",
        "colab": {}
      },
      "source": [
        "all_letters = string.ascii_letters + \" .,;'\"\n",
        "n_input     = len(all_letters)\n",
        "alphabet    = all_letters\n",
        "ethnicities = ['Chinese', 'Japanese', 'Vietnamese', 'Korean', 'Arabic','Czech','Dutch','English','French','German','Greek','Irish','Italian','Polish','Portuguese','Russian','Scottish','Spanish']\n",
        "n_classes   = len(ethnicities) # the number of classes\n",
        "\n",
        "name_strings, ethnicity_strings, str_list, names_list, ethnicity_list = [], [], [], [], []"
      ],
      "execution_count": 0,
      "outputs": []
    },
    {
      "cell_type": "markdown",
      "metadata": {
        "id": "X3gUUYGYhoSX",
        "colab_type": "text"
      },
      "source": [
        "## Define functions"
      ]
    },
    {
      "cell_type": "code",
      "metadata": {
        "id": "rkCARMokhoSX",
        "colab_type": "code",
        "colab": {}
      },
      "source": [
        "def weight_variable(shape):\n",
        "    initial = tf.truncated_normal(shape, stddev=0.1)\n",
        "    return tf.Variable(initial)"
      ],
      "execution_count": 0,
      "outputs": []
    },
    {
      "cell_type": "code",
      "metadata": {
        "id": "sRy6tuY2hoSa",
        "colab_type": "code",
        "colab": {}
      },
      "source": [
        "def bias_variable(shape):\n",
        "    initial = tf.constant(0.1, shape=shape)\n",
        "    return tf.Variable(initial)"
      ],
      "execution_count": 0,
      "outputs": []
    },
    {
      "cell_type": "code",
      "metadata": {
        "id": "W9ImOpM-hoSc",
        "colab_type": "code",
        "colab": {}
      },
      "source": [
        "def name_one_hot(name, max_sequence_length):\n",
        "    result = []\n",
        "    for char in name:\n",
        "        v = np.zeros(n_input, dtype=np.int) # count space as a character\n",
        "        v[alphabet.index(char)] = 1\n",
        "        result.append(v)\n",
        "    while len(result) < max_sequence_length:\n",
        "        result.append(np.zeros(n_input, dtype=np.int))\n",
        "    result = np.array(result)\n",
        "    return result"
      ],
      "execution_count": 0,
      "outputs": []
    },
    {
      "cell_type": "code",
      "metadata": {
        "id": "gbG9NUx8hoSe",
        "colab_type": "code",
        "colab": {}
      },
      "source": [
        "def ethnicity_one_hot(ethnicity):\n",
        "    v = np.zeros(n_classes, dtype=np.int)\n",
        "    v[ethnicities.index(ethnicity)] = 1\n",
        "    return v"
      ],
      "execution_count": 0,
      "outputs": []
    },
    {
      "cell_type": "markdown",
      "metadata": {
        "id": "zk72o7uIhoSh",
        "colab_type": "text"
      },
      "source": [
        "## Data load "
      ]
    },
    {
      "cell_type": "code",
      "metadata": {
        "id": "3EDP49j_hoSi",
        "colab_type": "code",
        "colab": {}
      },
      "source": [
        "with open('names_revised.csv', 'r') as csv:\n",
        "    for line in csv:       \n",
        "        l = [s.strip() for s in line.split(',')] # lowercase L, not capital i , l['name', 'ehnicity']\n",
        "        if(l[1] in ethnicities):\n",
        "            name_strings.append(l[0])\n",
        "            ethnicity_strings.append(l[1])\n",
        "            if len(l[0]) > max_sequence_length:\n",
        "                l[0] = l[0][:max_sequence_length]\n",
        "            names_list.append(name_one_hot(l[0], max_sequence_length)) # one-hot vector of each characters of name\n",
        "            ethnicity_list.append(ethnicity_one_hot(l[1])) # one-hot vector of ethnicity"
      ],
      "execution_count": 0,
      "outputs": []
    },
    {
      "cell_type": "markdown",
      "metadata": {
        "id": "lG3oVHeRhoSj",
        "colab_type": "text"
      },
      "source": [
        "## Training - Test Seperation"
      ]
    },
    {
      "cell_type": "code",
      "metadata": {
        "id": "EX56-iVihoSk",
        "colab_type": "code",
        "colab": {}
      },
      "source": [
        "rng_state = np.random.get_state() # use the same random number generator state\n",
        "np.random.shuffle(names_list)     # when shuffling the two lists\n",
        "np.random.set_state(rng_state)    # they are effectively shuffled in parallel so that inputs still correspond to outputs after shuffling\n",
        "np.random.shuffle(ethnicity_list)"
      ],
      "execution_count": 0,
      "outputs": []
    },
    {
      "cell_type": "code",
      "metadata": {
        "id": "rES2RQjlhoSl",
        "colab_type": "code",
        "colab": {}
      },
      "source": [
        "size = len(names_list) \n",
        "train_size = np.int(size*2/3) \n",
        "\n",
        "training_X = np.array(names_list[:train_size])\n",
        "training_y = np.array(ethnicity_list[:train_size])\n",
        "testing_X = np.array(names_list[train_size:])\n",
        "testing_y = np.array(ethnicity_list[train_size:])"
      ],
      "execution_count": 0,
      "outputs": []
    },
    {
      "cell_type": "markdown",
      "metadata": {
        "id": "tMlK37HghoSn",
        "colab_type": "text"
      },
      "source": [
        "## Build a model"
      ]
    },
    {
      "cell_type": "code",
      "metadata": {
        "id": "qxWFvlAZhoSo",
        "colab_type": "code",
        "colab": {}
      },
      "source": [
        "X = tf.placeholder(tf.float32, [None, max_sequence_length, n_input])\n",
        "y = tf.placeholder(tf.float32, [None, n_classes])"
      ],
      "execution_count": 0,
      "outputs": []
    },
    {
      "cell_type": "code",
      "metadata": {
        "id": "44gwEtIhGqMp",
        "colab_type": "code",
        "colab": {
          "base_uri": "https://localhost:8080/",
          "height": 102
        },
        "outputId": "42a5686a-c6dd-433e-cf0f-3eb2a18d44f2"
      },
      "source": [
        "x = tf.reshape(X, [-1, max_sequence_length * n_input])\n",
        "a= max_sequence_length * n_input\n",
        "print (x)\n",
        "w_init = tf.variance_scaling_initializer()\n",
        "b_init = tf.constant_initializer(0.)\n",
        "#print (n_classes)\n",
        "## 1st hidden layer\n",
        "w1 = weight_variable([a, 256])                               # weight for 1st hidden layer which have 256 units\n",
        "b1 = bias_variable ([256])                             # bias for 1st hidden layer which have 256 units\n",
        "#h  = tf.keras.layers.dot()\n",
        "#print(w1) \n",
        "h= tf.matmul (x, w1) + b1;                              # matrix multiplication\n",
        "h  = tf.nn.relu (h)                               # relu activation\n",
        "\n",
        "\n",
        "print (h)\n",
        "\n",
        "## 2nd hidden layer\n",
        "w2 = weight_variable([256, 256]) \n",
        "print (w2)                             # weight for 2nd hidden layer which have 256 units\n",
        "b2 =  bias_variable ([256])                               # bias for 2nd hidden layer which have 256 units\n",
        "h  = tf.matmul (h, w2) +b2;                               # matrix multiplication\n",
        "h  = tf.nn.relu (h)                               # relu activation\n",
        "print (h)\n",
        "#print (w3)\n",
        "## output layer\n",
        "w3 = weight_variable([256, n_classes])                               # weight for output layer which have 256 units\n",
        "\n",
        "y_ = tf.matmul(h, w3)\n",
        "print (y_)"
      ],
      "execution_count": 12,
      "outputs": [
        {
          "output_type": "stream",
          "text": [
            "Tensor(\"Reshape:0\", shape=(?, 1083), dtype=float32)\n",
            "Tensor(\"Relu:0\", shape=(?, 256), dtype=float32)\n",
            "<tf.Variable 'Variable_2:0' shape=(256, 256) dtype=float32_ref>\n",
            "Tensor(\"Relu_1:0\", shape=(?, 256), dtype=float32)\n",
            "Tensor(\"MatMul_2:0\", shape=(?, 18), dtype=float32)\n"
          ],
          "name": "stdout"
        }
      ]
    },
    {
      "cell_type": "code",
      "metadata": {
        "id": "L1P7JjGthoSq",
        "colab_type": "code",
        "colab": {}
      },
      "source": [
        ""
      ],
      "execution_count": 0,
      "outputs": []
    },
    {
      "cell_type": "code",
      "metadata": {
        "scrolled": false,
        "id": "2_fXzDBIhoSr",
        "colab_type": "code",
        "colab": {
          "base_uri": "https://localhost:8080/",
          "height": 241
        },
        "outputId": "41c5287f-606f-4ea6-9e94-49e28df12b95"
      },
      "source": [
        "out_weights = weight_variable([n_hidden, n_classes])\n",
        "out_biases = bias_variable([n_classes])\n",
        "# Basic RNN\n",
        "#cells = tf.contrib.rnn.BasicRNNCell(num_units = 128)\n",
        "# LSTM\n",
        "cells = tf.contrib.rnn.BasicLSTMCell(num_units = 128)\n",
        "# GRU\n",
        "#cells = tf.contrib.rnn.GRUCell(num_units = 128)\n",
        "\n",
        "outputs, states = tf.nn.dynamic_rnn(cells, X, dtype=tf.float32)\n",
        "\n",
        "y_ = tf.matmul(outputs[:,-1,:], out_weights) + out_biases # predict y based on final rnn output\n",
        "print (y_)"
      ],
      "execution_count": 43,
      "outputs": [
        {
          "output_type": "stream",
          "text": [
            "WARNING:tensorflow:From <ipython-input-43-793c66b4a9f3>:1: BasicLSTMCell.__init__ (from tensorflow.python.ops.rnn_cell_impl) is deprecated and will be removed in a future version.\n",
            "Instructions for updating:\n",
            "This class is equivalent as tf.keras.layers.LSTMCell, and will be replaced by that in Tensorflow 2.0.\n",
            "WARNING:tensorflow:From <ipython-input-43-793c66b4a9f3>:5: dynamic_rnn (from tensorflow.python.ops.rnn) is deprecated and will be removed in a future version.\n",
            "Instructions for updating:\n",
            "Please use `keras.layers.RNN(cell)`, which is equivalent to this API\n",
            "WARNING:tensorflow:From /usr/local/lib/python3.6/dist-packages/tensorflow_core/python/ops/rnn_cell_impl.py:735: Layer.add_variable (from tensorflow.python.keras.engine.base_layer) is deprecated and will be removed in a future version.\n",
            "Instructions for updating:\n",
            "Please use `layer.add_weight` method instead.\n",
            "WARNING:tensorflow:From /usr/local/lib/python3.6/dist-packages/tensorflow_core/python/ops/rnn_cell_impl.py:739: calling Zeros.__init__ (from tensorflow.python.ops.init_ops) with dtype is deprecated and will be removed in a future version.\n",
            "Instructions for updating:\n",
            "Call initializer instance with the dtype argument instead of passing it to the constructor\n"
          ],
          "name": "stdout"
        }
      ]
    },
    {
      "cell_type": "code",
      "metadata": {
        "id": "0AEDZ8irhoSt",
        "colab_type": "code",
        "colab": {
          "base_uri": "https://localhost:8080/",
          "height": 34
        },
        "outputId": "fabccaa6-b197-459a-f6b7-bb5c15c03c83"
      },
      "source": [
        ""
      ],
      "execution_count": 44,
      "outputs": [
        {
          "output_type": "stream",
          "text": [
            "Tensor(\"add_23:0\", shape=(?, 18), dtype=float32)\n"
          ],
          "name": "stdout"
        }
      ]
    },
    {
      "cell_type": "code",
      "metadata": {
        "id": "zT9_SqQHhoSv",
        "colab_type": "code",
        "colab": {}
      },
      "source": [
        "loss = tf.reduce_mean(tf.nn.softmax_cross_entropy_with_logits_v2(logits=y_, labels=y))\n",
        "train_step = tf.train.AdamOptimizer(learning_rate=learning_rate).minimize(loss)"
      ],
      "execution_count": 0,
      "outputs": []
    },
    {
      "cell_type": "code",
      "metadata": {
        "id": "Gn--9uxkhoSx",
        "colab_type": "code",
        "colab": {}
      },
      "source": [
        "# Evaluation\n",
        "correct_prediction = tf.equal(tf.argmax(y_,1), tf.argmax(y,1))\n",
        "accuracy = tf.reduce_mean(tf.cast(correct_prediction, tf.float32))"
      ],
      "execution_count": 0,
      "outputs": []
    },
    {
      "cell_type": "code",
      "metadata": {
        "id": "9uqkOibohoS0",
        "colab_type": "code",
        "colab": {}
      },
      "source": [
        "# Softmax\n",
        "pred = tf.nn.softmax(y_)"
      ],
      "execution_count": 0,
      "outputs": []
    },
    {
      "cell_type": "code",
      "metadata": {
        "id": "LmEa9ESqhoS2",
        "colab_type": "code",
        "colab": {}
      },
      "source": [
        "init = tf.global_variables_initializer()\n",
        "saver = tf.train.Saver()"
      ],
      "execution_count": 0,
      "outputs": []
    },
    {
      "cell_type": "markdown",
      "metadata": {
        "id": "4DNMlub1hoS4",
        "colab_type": "text"
      },
      "source": [
        "## Train a model"
      ]
    },
    {
      "cell_type": "code",
      "metadata": {
        "id": "xlmLgNNuhoS6",
        "colab_type": "code",
        "colab": {}
      },
      "source": [
        "sess = tf.InteractiveSession()\n",
        "sess.run(init)"
      ],
      "execution_count": 0,
      "outputs": []
    },
    {
      "cell_type": "code",
      "metadata": {
        "scrolled": false,
        "id": "gi_m6O0_hoS8",
        "colab_type": "code",
        "colab": {
          "base_uri": "https://localhost:8080/",
          "height": 782
        },
        "outputId": "224e1cbd-7e34-47b7-9030-85707826fce3"
      },
      "source": [
        "\n",
        "\n",
        "for _ in range(n_epoch+1):\n",
        "    if _%10 == 0:\n",
        "        train_accuracy = accuracy.eval(feed_dict={X:training_X, y:training_y})\n",
        "        sess.run(train_step, feed_dict={X: training_X, y: training_y})\n",
        "        print(\"step %d, training accuracy %g\"%(_, train_accuracy))\n",
        "        test_accuracy = accuracy.eval(feed_dict={X:testing_X, y:testing_y})\n",
        "        print(\"testing accuracy\", test_accuracy)\n",
        "        if _== 200:\n",
        "          print (\"=====================================\")\n",
        "          test_accuracy = accuracy.eval(feed_dict={X:testing_X, y:testing_y})\n",
        "          print(\"testing accuracy\", test_accuracy)\n",
        "saver.save(sess, model_save_path)\n",
        "print(\"Model saved in file: %s\" % model_save_path)"
      ],
      "execution_count": 18,
      "outputs": [
        {
          "output_type": "stream",
          "text": [
            "step 0, training accuracy 0.210613\n",
            "testing accuracy 0.46779257\n",
            "step 10, training accuracy 0.468984\n",
            "testing accuracy 0.47003436\n",
            "step 20, training accuracy 0.470703\n",
            "testing accuracy 0.5278733\n",
            "step 30, training accuracy 0.53565\n",
            "testing accuracy 0.5096398\n",
            "step 40, training accuracy 0.515845\n",
            "testing accuracy 0.4955911\n",
            "step 50, training accuracy 0.502018\n",
            "testing accuracy 0.50141984\n",
            "step 60, training accuracy 0.509417\n",
            "testing accuracy 0.5230907\n",
            "step 70, training accuracy 0.53296\n",
            "testing accuracy 0.54954416\n",
            "step 80, training accuracy 0.563154\n",
            "testing accuracy 0.5607532\n",
            "step 90, training accuracy 0.579073\n",
            "testing accuracy 0.57823944\n",
            "step 100, training accuracy 0.597085\n",
            "testing accuracy 0.60424453\n",
            "step 110, training accuracy 0.620628\n",
            "testing accuracy 0.6248692\n",
            "step 120, training accuracy 0.64432\n",
            "testing accuracy 0.64190704\n",
            "step 130, training accuracy 0.66009\n",
            "testing accuracy 0.6441489\n",
            "step 140, training accuracy 0.663901\n",
            "testing accuracy 0.65236884\n",
            "step 150, training accuracy 0.672496\n",
            "testing accuracy 0.65894485\n",
            "step 160, training accuracy 0.682137\n",
            "testing accuracy 0.6689583\n",
            "step 170, training accuracy 0.691704\n",
            "testing accuracy 0.6719474\n",
            "step 180, training accuracy 0.69716\n",
            "testing accuracy 0.6774772\n",
            "step 190, training accuracy 0.702765\n",
            "testing accuracy 0.68136305\n",
            "step 200, training accuracy 0.708371\n",
            "testing accuracy 0.68390375\n",
            "=====================================\n",
            "testing accuracy 0.68390375\n",
            "Model saved in file: tmp/model.ckpt\n"
          ],
          "name": "stdout"
        }
      ]
    },
    {
      "cell_type": "code",
      "metadata": {
        "id": "yXl6EuVeoWwb",
        "colab_type": "code",
        "colab": {}
      },
      "source": [
        ""
      ],
      "execution_count": 0,
      "outputs": []
    },
    {
      "cell_type": "code",
      "metadata": {
        "id": "F-wZaEnghoS-",
        "colab_type": "code",
        "colab": {
          "base_uri": "https://localhost:8080/",
          "height": 833
        },
        "outputId": "1063e841-b86d-4404-94c6-439c0decea77"
      },
      "source": [
        "i=0\n",
        "while i<8:\n",
        "    input_name = input('Enter a last name (max 19 letters):')\n",
        "   \n",
        "    while len(input_name) > max_sequence_length or len(input_name) == 0:\n",
        "        input_name = raw_input('Invalid input. Enter a last name (max 19 letters):')\n",
        "   \n",
        "    result=pred.eval(feed_dict={X: np.expand_dims(name_one_hot(input_name, 19), axis=0)})[0]\n",
        "    idx = np.argsort(result)[::-1]\n",
        "    print(\"\\n(%s): %.4f\" % (ethnicities[idx[0]], result[idx[0]]))\n",
        "    print(\"(%s): %.4f\" % (ethnicities[idx[1]], result[idx[1]]))\n",
        "    print(\"(%s): %.4f\" % (ethnicities[idx[2]], result[idx[2]]))\n",
        "    print(\"==========================================\")\n",
        "    i=i+1"
      ],
      "execution_count": 25,
      "outputs": [
        {
          "output_type": "stream",
          "text": [
            "Enter a last name (max 19 letters):Pyatykh\n",
            "\n",
            "(Russian): 0.9922\n",
            "(Czech): 0.0051\n",
            "(English): 0.0018\n",
            "==========================================\n",
            "Enter a last name (max 19 letters):Khachaturov\n",
            "\n",
            "(Russian): 0.9901\n",
            "(Czech): 0.0062\n",
            "(Polish): 0.0020\n",
            "==========================================\n",
            "Enter a last name (max 19 letters):Cherkashin\n",
            "\n",
            "(Russian): 0.9245\n",
            "(Czech): 0.0484\n",
            "(Polish): 0.0120\n",
            "==========================================\n",
            "Enter a last name (max 19 letters):Kuzmin\n",
            "\n",
            "(Czech): 0.3026\n",
            "(German): 0.2296\n",
            "(Dutch): 0.2143\n",
            "==========================================\n",
            "Enter a last name (max 19 letters):Bautin\n",
            "\n",
            "(Russian): 0.7453\n",
            "(English): 0.1620\n",
            "(Irish): 0.0278\n",
            "==========================================\n",
            "Enter a last name (max 19 letters):Samoylenko\n",
            "\n",
            "(Russian): 0.9370\n",
            "(Czech): 0.0444\n",
            "(Polish): 0.0101\n",
            "==========================================\n",
            "Enter a last name (max 19 letters):Ovsienko\n",
            "\n",
            "(Russian): 0.4247\n",
            "(Czech): 0.3134\n",
            "(Polish): 0.1372\n",
            "==========================================\n",
            "Enter a last name (max 19 letters):Mishukov\n",
            "\n",
            "(Russian): 0.9926\n",
            "(Czech): 0.0053\n",
            "(Polish): 0.0010\n",
            "==========================================\n"
          ],
          "name": "stdout"
        }
      ]
    },
    {
      "cell_type": "markdown",
      "metadata": {
        "id": "j8lCT9z0hoTA",
        "colab_type": "text"
      },
      "source": [
        "## 4. Report\n",
        "\n",
        "### a. Use GRU, LSTM and Simple RNN functions for training . Compare each of results.\n",
        "\n",
        "### b. Replace the RNN with DNN as below."
      ]
    },
    {
      "cell_type": "code",
      "metadata": {
        "id": "FyQ2N3z-hoTB",
        "colab_type": "code",
        "colab": {
          "base_uri": "https://localhost:8080/",
          "height": 102
        },
        "outputId": "e97badb5-c592-41dd-9751-e750be1e309d"
      },
      "source": [
        "x = tf.reshape(X, [-1, max_sequence_length * n_input])\n",
        "a= max_sequence_length * n_input\n",
        "\n",
        "w_init = tf.variance_scaling_initializer()\n",
        "b_init = tf.constant_initializer(0.)\n",
        "\n",
        "\n",
        "w1 = weight_variable([a, 256])                               # weight for 1st hidden layer which have 256 units\n",
        "b1 = bias_variable ([256])                             # bias for 1st hidden layer which have 256 units \n",
        "h= tf.matmul (x, w1) + b1;                              # matrix multiplication\n",
        "h  = tf.nn.relu (h)                               # relu activation\n",
        "\n",
        "\n",
        "print (h)\n",
        "\n",
        "## 2nd hidden layer\n",
        "w2 = weight_variable([256, 256])                            # weight for 2nd hidden layer which have 256 units\n",
        "b2 =  bias_variable ([256])                               # bias for 2nd hidden layer which have 256 units\n",
        "h  = tf.matmul (h, w2) +b2;                               # matrix multiplication\n",
        "h  = tf.nn.relu (h)                               # relu activation\n",
        "\n",
        "## output layer\n",
        "w3 = weight_variable([256, n_classes])                               # weight for output layer which have 256 units\n",
        "\n",
        "y_ = tf.matmul(h, w3)\n"
      ],
      "execution_count": 14,
      "outputs": [
        {
          "output_type": "stream",
          "text": [
            "Tensor(\"Reshape_1:0\", shape=(?, 1083), dtype=float32)\n",
            "Tensor(\"Relu_2:0\", shape=(?, 256), dtype=float32)\n",
            "<tf.Variable 'Variable_6:0' shape=(256, 256) dtype=float32_ref>\n",
            "Tensor(\"Relu_3:0\", shape=(?, 256), dtype=float32)\n",
            "Tensor(\"MatMul_4:0\", shape=(?, 18), dtype=float32)\n"
          ],
          "name": "stdout"
        }
      ]
    },
    {
      "cell_type": "markdown",
      "metadata": {
        "id": "GzB7guIrhoTD",
        "colab_type": "text"
      },
      "source": [
        "### Submission (Due: Dec. 10 Tue.)\n",
        "Submit your report by Tuesday, December 10 to **\"june1212@kaist.ac.kr\"**"
      ]
    },
    {
      "cell_type": "code",
      "metadata": {
        "id": "qUZ8XA6dhoTE",
        "colab_type": "code",
        "colab": {}
      },
      "source": [
        ""
      ],
      "execution_count": 0,
      "outputs": []
    }
  ]
}